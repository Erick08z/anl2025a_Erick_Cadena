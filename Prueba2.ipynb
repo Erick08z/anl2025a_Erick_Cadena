{
 "cells": [
  {
   "cell_type": "markdown",
   "id": "a6f4ded6",
   "metadata": {},
   "source": [
    "# Prueba 2 \n",
    "\n",
    "Erick Francisco Cadena Loza"
   ]
  },
  {
   "cell_type": "markdown",
   "id": "e87ed718",
   "metadata": {},
   "source": [
    "## Pregunta_2 : Implementación del método de Gauss Seidel para resolver el sistema\n",
    "\n"
   ]
  },
  {
   "cell_type": "code",
   "execution_count": null,
   "id": "5794fc7d",
   "metadata": {},
   "outputs": [
    {
     "data": {
      "image/png": "[encoded data removed]",
      "text/plain": [
       "<Figure size 640x480 with 1 Axes>"
      ]
     },
     "metadata": {},
     "output_type": "display_data"
    }
   ],
   "source": [
    "import numpy as np\n",
    "import matplotlib.pyplot as plt\n",
    "\n",
    "def hilbert_matrix(n):\n",
    "    return np.array([[1 / (i + j - 1) for j in range(1, n + 1)] for i in range(1, n + 1)])\n",
    "\n",
    "def gauss_seidel(A, b, max_iter=500, tol=1e-10):\n",
    "    n = len(b)\n",
    "    x = np.zeros_like(b)\n",
    "    norm_history = []\n",
    "\n",
    "    for k in range(max_iter):\n",
    "        x_old = x.copy()\n",
    "        for i in range(n):\n",
    "            s1 = np.dot(A[i, :i], x[:i])\n",
    "            s2 = np.dot(A[i, i+1:], x_old[i+1:])\n",
    "            x[i] = (b[i] - s1 - s2) / A[i, i]\n",
    "        error = np.linalg.norm(x - x_old)\n",
    "        norm_history.append(error)\n",
    "        if error < tol:\n",
    "            break\n",
    "\n",
    "    return x, norm_history\n",
    "\n",
    "# Sistema H_100 x = 1\n",
    "n = 100\n",
    "H = hilbert_matrix(n)\n",
    "b = np.ones(n)\n",
    "\n",
    "x_sol, normas = gauss_seidel(H, b)\n",
    "\n",
    "# Gráfico de la evolución de la norma del error\n",
    "plt.semilogy(normas)\n",
    "plt.xlabel('Iteración')\n",
    "plt.ylabel('norma')\n",
    "plt.title('Convergencia del método de Gauss-Seidel')\n",
    "plt.grid(True)\n",
    "plt.show()"
   ]
  },
  {
   "cell_type": "markdown",
   "id": "02d346ec",
   "metadata": {},
   "source": [
    "### Conclusiones\n",
    "\n",
    "Se puede apreciar que a medidad van sucediendo las iteraciones la norma va decreciendo.\n",
    "\n",
    "La matriz de hilbert es mal condicionada y aunque es simétrica definida positiva, el método de Gauss Seidel puede converger lentamente o incluso no converger para tamaños grandes como n = 100,debido a errores de redondeo"
   ]
  },
  {
   "cell_type": "markdown",
   "id": "6fce6592",
   "metadata": {},
   "source": [
    "## Pregunta 3: Método de la Potencia y Potencia Inversa"
   ]
  },
  {
   "cell_type": "code",
   "execution_count": 21,
   "id": "83fb6dcd",
   "metadata": {},
   "outputs": [],
   "source": [
    "def power_method(A, z0=None, tol=1e-10, nmax=500):\n",
    "    n = A.shape[0]\n",
    "    if z0 is None:\n",
    "        z0 = np.random.rand(n)\n",
    "    q = z0 / np.linalg.norm(z0)\n",
    "    res = tol + 1\n",
    "    sigma, err_list = [], []\n",
    "    niter = 0\n",
    "\n",
    "    while res >= tol and niter < nmax:\n",
    "        niter += 1\n",
    "        z = A @ q\n",
    "        q = z / np.linalg.norm(z)\n",
    "        λ = np.dot(q, A @ q)\n",
    "        res = np.linalg.norm(A @ q - λ * q)\n",
    "        sigma.append(λ)\n",
    "        err_list.append(res)\n",
    "\n",
    "    return sigma[-1], q, niter, err_list\n",
    "\n",
    "def inv_power_method(A, z0=None, mu=0.0, tol=1e-10, nmax=500):\n",
    "    n = A.shape[0]\n",
    "    if z0 is None:\n",
    "        z0 = np.random.rand(n)\n",
    "    q = z0 / np.linalg.norm(z0)\n",
    "    I = np.eye(n)\n",
    "    M = A - mu * I\n",
    "    sigma, err_list = [], []\n",
    "    res = tol + 1\n",
    "    niter = 0\n",
    "\n",
    "    while res >= tol and niter < nmax:\n",
    "        niter += 1\n",
    "        z = np.linalg.solve(M, q)\n",
    "        q = z / np.linalg.norm(z)\n",
    "        z2 = A @ q\n",
    "        λ = np.dot(q, z2)\n",
    "        res = np.linalg.norm(z2 - λ * q)\n",
    "        sigma.append(λ)\n",
    "        err_list.append(res)\n",
    "\n",
    "    return lambda: 1 / sigma[-1], q, niter, err_list\n"
   ]
  },
  {
   "cell_type": "code",
   "execution_count": 26,
   "id": "7034f9dc",
   "metadata": {},
   "outputs": [
    {
     "name": "stdout",
     "output_type": "stream",
     "text": [
      "Hilbert 10 => Condición estimada: 1.58e+13 | Iteraciones: PM=15, InvPM=1\n",
      "Hilbert 30 => Condición estimada: -7.75e+17 | Iteraciones: PM=19, InvPM=1\n",
      "Hilbert 50 => Condición estimada: 5.29e+17 | Iteraciones: PM=21, InvPM=1\n",
      "Hilbert 70 => Condición estimada: 1.47e+18 | Iteraciones: PM=23, InvPM=1\n"
     ]
    }
   ],
   "source": [
    "for n in [10, 30, 50, 70]:\n",
    "    H = np.array([[1 / (i + j - 1) for j in range(1, n + 1)] for i in range(1, n + 1)])\n",
    "    lmax, _, it1, _ = power_method(H)\n",
    "    lmin_inv, _, it2, _ = inv_power_method(H)\n",
    "    cond_est = lmax * lmin_inv()\n",
    "    print(f\"Hilbert {n} => Condición estimada: {cond_est:.2e} | Iteraciones: PM={it1}, InvPM={it2}\")"
   ]
  },
  {
   "cell_type": "markdown",
   "id": "7b95d619",
   "metadata": {},
   "source": [
    "### Conclusiones\n",
    "\n",
    "* Ambos métodos son utiles.\n",
    "\n",
    "* El método de la potencia es más costoso en relación a las iteraciones\n",
    "\n",
    "* El método de la potencia inversa hace menos iteraciones pero debe resolver un sistema lineal en cada paso\n",
    "\n",
    "* Por último podemos ver que la matriz de hilbert es muy mal condicionada "
   ]
  }
 ],
 "metadata": {
  "kernelspec": {
   "display_name": "venv",
   "language": "python",
   "name": "python3"
  },
  "language_info": {
   "codemirror_mode": {
    "name": "ipython",
    "version": 3
   },
   "file_extension": ".py",
   "mimetype": "text/x-python",
   "name": "python",
   "nbconvert_exporter": "python",
   "pygments_lexer": "ipython3",
   "version": "3.13.2"
  }
 },
 "nbformat": 4,
 "nbformat_minor": 5
}
